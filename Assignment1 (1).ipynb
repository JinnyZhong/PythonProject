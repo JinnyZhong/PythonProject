{
 "cells": [
  {
   "cell_type": "code",
   "execution_count": 2,
   "id": "af763bbb",
   "metadata": {},
   "outputs": [],
   "source": [
    "from bs4 import BeautifulSoup\n",
    "import requests"
   ]
  },
  {
   "cell_type": "code",
   "execution_count": 3,
   "id": "35a5228c",
   "metadata": {},
   "outputs": [
    {
     "name": "stdout",
     "output_type": "stream",
     "text": [
      "current price: $1,029\r\n",
      "          and 99 cents\r\n",
      "        \n",
      "list price: $1,399.99\n"
     ]
    }
   ],
   "source": [
    "# Question 1\n",
    "def assign():\n",
    "\ttry:\n",
    "\t\turl= \"https://www.tigerdirect.com/applications/SearchTools/item-details.asp?EdpNo=1501390\"\n",
    "\t\theaders = {'User-Agent': 'Mozilla/5.0 (Macintosh; Intel Mac OS X 10_15_7) AppleWebKit/537.36 (KHTML, like Gecko) Chrome/108.0.0.0 Safari/537.36'}\n",
    "\t\tpage = requests.get(url,headers=headers)\n",
    "\t\t# Create a beautifulsoup object \n",
    "\t\tsoup = BeautifulSoup(page.text, 'lxml')\n",
    "\t\t# find <p> that immediately follows <div> of class \"col-md-6.\n",
    "\t\tlist_of_currentprice = soup.select(\"p.final-price span.sr-only\")\n",
    "\t\tlist_of_listprice = soup.select(\"p.list-price span del\")\n",
    "\t\t# prints the HTML content to the screen (almost only text here\n",
    "\t\t# just need to replaces \"&nbsp;\" with \" \")\n",
    "\t\tfor i in list_of_currentprice:\n",
    "\t\t\tprint(\"current price:\",str(i.text))\n",
    "\t\tfor j in list_of_listprice:\n",
    "\t\t\tprint(\"list price:\",str(j.text))\n",
    "\t\n",
    "\texcept:\n",
    "\t\tprint(\"Problem with the connection...\")\n",
    "\n",
    "if __name__ == '__main__':\n",
    "\tassign()"
   ]
  },
  {
   "cell_type": "code",
   "execution_count": 4,
   "id": "8f1b58ae",
   "metadata": {},
   "outputs": [
    {
     "name": "stdout",
     "output_type": "stream",
     "text": [
      "current price: $1,029\r\n",
      "          and 99 cents\r\n",
      "        \n",
      "list price: $1,399.99\n"
     ]
    }
   ],
   "source": [
    "# Question 1 & Question 2\n",
    "try:\n",
    "\turl= \"https://www.tigerdirect.com/applications/SearchTools/item-details.asp?EdpNo=1501390\"\n",
    "\theaders = {'User-Agent': ''",
    "\tpage = requests.get(url,headers=headers)\n",
    "\t# Create a beautifulsoup object \n",
    "\tsoup = BeautifulSoup(page.text, 'lxml')\n",
    "\t# find <p> that immediately follows <div> of class \"col-md-6.\n",
    "\tlist_of_currentprice = soup.select(\"p.final-price span.sr-only\")\n",
    "\tlist_of_listprice = soup.select(\"p.list-price span del\")\n",
    "\t# prints the HTML content to the screen (almost only text here\n",
    "\t# just need to replaces \"&nbsp;\" with \" \")\n",
    "\tfor i in list_of_currentprice:\n",
    "\t\tprint(\"current price:\",i.text)\n",
    "\t\tcurrentprice = str(i.text)\n",
    "\tfor j in list_of_listprice:\n",
    "\t\tprint(\"list price:\",j.text)\n",
    "\t\tlistprice = str(j.text)\n",
    "\t\n",
    "except:\n",
    "\tprint(\"Problem with the connection...\")\n"
   ]
  },
  {
   "cell_type": "code",
   "execution_count": 5,
   "id": "3b699bf0",
   "metadata": {},
   "outputs": [
    {
     "name": "stdout",
     "output_type": "stream",
     "text": [
      "$1,399.99\n"
     ]
    }
   ],
   "source": [
    "print(listprice)"
   ]
  },
  {
   "cell_type": "code",
   "execution_count": 6,
   "id": "bfa2fdc5",
   "metadata": {},
   "outputs": [
    {
     "data": {
      "text/plain": [
       "'$1,029\\r\\n          and 99 cents\\r\\n        '"
      ]
     },
     "execution_count": 6,
     "metadata": {},
     "output_type": "execute_result"
    }
   ],
   "source": [
    "currentprice"
   ]
  },
  {
   "cell_type": "code",
   "execution_count": 7,
   "id": "aef240f8",
   "metadata": {},
   "outputs": [],
   "source": [
    "# Question 3\n",
    "import re"
   ]
  },
  {
   "cell_type": "code",
   "execution_count": 8,
   "id": "8ee13d92",
   "metadata": {},
   "outputs": [
    {
     "name": "stdout",
     "output_type": "stream",
     "text": [
      "1399.99\n"
     ]
    }
   ],
   "source": [
    "listprice_new = re.sub(\"\\,\", \"\", listprice)\n",
    "listprice_new = re.sub(\"\\$\", \"\", listprice_new)\n",
    "print(listprice_new)"
   ]
  },
  {
   "cell_type": "code",
   "execution_count": 9,
   "id": "8f5e6d4c",
   "metadata": {},
   "outputs": [
    {
     "data": {
      "text/plain": [
       "'1029'"
      ]
     },
     "execution_count": 9,
     "metadata": {},
     "output_type": "execute_result"
    }
   ],
   "source": [
    "# current pirce\n",
    "price=re.split(\"\\r\", currentprice, 1)[0]\n",
    "price=re.sub(\"\\$\", \"\", price)\n",
    "price=re.sub(\"\\,\", \"\", price)\n",
    "price"
   ]
  },
  {
   "cell_type": "code",
   "execution_count": 10,
   "id": "02a07b9a",
   "metadata": {},
   "outputs": [
    {
     "data": {
      "text/plain": [
       "'99'"
      ]
     },
     "execution_count": 10,
     "metadata": {},
     "output_type": "execute_result"
    }
   ],
   "source": [
    "cents = re.split(\"and\", currentprice, 1)[1]\n",
    "cents = re.split(\"cents\", cents, 1)[0]\n",
    "cents = re.sub(\" \", '', cents)\n",
    "cents"
   ]
  },
  {
   "cell_type": "code",
   "execution_count": 11,
   "id": "4fc95a01",
   "metadata": {},
   "outputs": [
    {
     "data": {
      "text/plain": [
       "'1029.99'"
      ]
     },
     "execution_count": 11,
     "metadata": {},
     "output_type": "execute_result"
    }
   ],
   "source": [
    "currentprice_new = price+'.'+cents\n",
    "currentprice_new"
   ]
  },
  {
   "cell_type": "code",
   "execution_count": 12,
   "id": "07e3b866",
   "metadata": {},
   "outputs": [
    {
     "name": "stdout",
     "output_type": "stream",
     "text": [
      "1399.99 1029.99\n"
     ]
    }
   ],
   "source": [
    "# Question 4\n",
    "print(listprice_new, currentprice_new)"
   ]
  },
  {
   "cell_type": "code",
   "execution_count": 13,
   "id": "331d4fe8",
   "metadata": {},
   "outputs": [
    {
     "name": "stdout",
     "output_type": "stream",
     "text": [
      "Wholesale Inflation Drops Sharply\n",
      "Key Differences in the Trump, Biden Docs\n",
      "Pentagon: No Back Pay for Vax Refusers\n",
      "Police: Election Denier Shot at Dems\n",
      "WHO Calls for Masks in Crowded Spaces\n",
      "Government Fails UFO Transparency Test\n",
      "Biden Invited to Address Congress\n"
     ]
    }
   ],
   "source": [
    "# Question 5 & 6\n",
    "try:\n",
    "\turl= \"https://www.usnews.com/\"\n",
    "\theaders = {'User-Agent': 'Mozilla/5.0 (Macintosh; Intel Mac OS X 10_15_7) AppleWebKit/537.36 (KHTML, like Gecko) Chrome/108.0.0.0 Safari/537.36'}\n",
    "\tpage = requests.get(url,headers=headers)\n",
    "\t# Create a beautifulsoup object \n",
    "\tsoup = BeautifulSoup(page.text, 'lxml')\n",
    "\t# find <p> that immediately follows <div> of class \"col-md-6.\n",
    "\tbig = soup.select(\"div.Box-w0dun1-0.ArmRest__Container-z77ov1-0.hTnNtV.bZwypa.Cell-sc-1abjmm4-0-w.iRArip.Cell-sc-1abjmm4-0-w.iRArip h3\")\n",
    "\tsmall = soup.select(\"div.Box-w0dun1-0.ArmRestTopStories__Part-s0vo7p-1.kmHbOk.biVKSR p\")\n",
    "\t# prints the HTML content to the screen (almost only text here\n",
    "\t# just need to replaces \"&nbsp;\" with \" \")\n",
    "\tfor n in big:\n",
    "\t\tprint(n.text)\n",
    "\tfor m in small:\n",
    "\t\tprint(m.text)\n",
    "\t\n",
    "except:\n",
    "\tprint(\"Problem with the connection...\")"
   ]
  },
  {
   "cell_type": "code",
   "execution_count": 14,
   "id": "4ade7081",
   "metadata": {},
   "outputs": [
    {
     "name": "stdout",
     "output_type": "stream",
     "text": [
      "<h3 class=\"Heading-sc-1w5xk2o-0 ContentBox__StoryHeading-sc-1egb8dt-3 MRvpF fqJuKa story-headline\"><a href=\"https://www.usnews.com/news/national-news/articles/2023-01-17/the-dramatic-differences-between-the-trump-and-biden-document-dramas\">Key Differences in the Trump, Biden Docs</a></h3>\n"
     ]
    }
   ],
   "source": [
    "# Question 7\n",
    "try:\n",
    "\turl= \"https://www.usnews.com/\"\n",
    "\theaders = {'User-Agent': 'Mozilla/5.0 (Macintosh; Intel Mac OS X 10_15_7) AppleWebKit/537.36 (KHTML, like Gecko) Chrome/108.0.0.0 Safari/537.36'}\n",
    "\tpage = requests.get(url,headers=headers)\n",
    "\t# Create a beautifulsoup object \n",
    "\tsoup = BeautifulSoup(page.text, 'lxml')\n",
    "\t# find <p> that immediately follows <div> of class \"col-md-6.\n",
    "\tsecondtop = soup.select(\"div.Box-w0dun1-0.ArmRest__Container-z77ov1-0.hTnNtV.bZwypa.Cell-sc-1abjmm4-0-w.iRArip.Cell-sc-1abjmm4-0-w.iRArip h3\")\n",
    "\tprint(secondtop[1])\n",
    "\t\n",
    "except:\n",
    "\tprint(\"Problem with the connection...\")"
   ]
  },
  {
   "cell_type": "code",
   "execution_count": 22,
   "id": "83775cab",
   "metadata": {},
   "outputs": [
    {
     "name": "stdout",
     "output_type": "stream",
     "text": [
      "https://www.usnews.com/news/national-news/articles/2023-01-17/the-dramatic-differences-between-the-trump-and-biden-document-dramas\n"
     ]
    }
   ],
   "source": [
    "str_secondtop = str(secondtop[1])\n",
    "#re.findall(\"<a href.+\\\">?\", str_secondtop)\n",
    "str_secondtop = str(re.findall(\"http.+[\\\"]\", str_secondtop))\n",
    "str_secondtop = str(re.sub('\"',\"\", str_secondtop))\n",
    "str_secondtop = str(re.sub(\"'\",\"\", str_secondtop))\n",
    "str_secondtop = str_secondtop[1:len(str_secondtop)-1]\n",
    "print(str_secondtop)"
   ]
  },
  {
   "cell_type": "code",
   "execution_count": 24,
   "id": "e2b9fe4c",
   "metadata": {
    "scrolled": true
   },
   "outputs": [
    {
     "name": "stdout",
     "output_type": "stream",
     "text": [
      "The Dramatic Differences Between the Trump and Biden Document Dramas\n"
     ]
    }
   ],
   "source": [
    "# Question 8\n",
    "#app > div.Box-w0dun1-0.dWWnRo > div.Content-sc-837ada-0.kkKJUL.content > div.Box-w0dun1-0.kLgpNr.villain-article__CustomVillain-zujirt-0.kgNsfr.article__VillainArticle-sc-1ng6nv6-6.itHiSy.villain-article__CustomVillain-zujirt-0.kgNsfr.article__VillainArticle-sc-1ng6nv6-6.itHiSy > div.Villain__FlexDiv-sc-1y12ps5-0.ibtdoQ > div > div > div.Villain__TitleContainer-sc-1y12ps5-6.knjdTo > h1\n",
    "try:\n",
    "\turl= str_secondtop\n",
    "\theaders = {'User-Agent': 'Mozilla/5.0 (Macintosh; Intel Mac OS X 10_15_7) AppleWebKit/537.36 (KHTML, like Gecko) Chrome/108.0.0.0 Safari/537.36'}\n",
    "\tpage = requests.get(url,headers=headers)\n",
    "\t# Create a beautifulsoup object \n",
    "\tsoup = BeautifulSoup(page.text, 'lxml')\n",
    "\t# find <p> that immediately follows <div> of class \"col-md-6.\n",
    "\tsecondheader = soup.select(\"h1\")\n",
    "\tsentence = soup.select(\"div.Raw-slyvem-0.bCYKCn p\")\n",
    "\tfor k in secondheader:\n",
    "\t\tprint(k.text)\n",
    "\t#for q in sentence:\n",
    "\t\t#print(q.text)\n",
    "\t\n",
    "except:\n",
    "\tprint(\"Problem with the connection...\")"
   ]
  },
  {
   "cell_type": "code",
   "execution_count": 25,
   "id": "a328f66c",
   "metadata": {},
   "outputs": [
    {
     "data": {
      "text/plain": [
       "'One president had to be hounded for government documents, including classified material that was only retrieved after the FBI executed a search warrant at his home'"
      ]
     },
     "execution_count": 25,
     "metadata": {},
     "output_type": "execute_result"
    }
   ],
   "source": [
    "sentence_one = str(re.split(\"\\.\",str(sentence))[0])\n",
    "sentence_one = str(re.sub(\"<p>\",\"\",sentence_one))\n",
    "sentence_one = str(re.sub(\"</p>\",\"\",sentence_one))\n",
    "sentence_one = str(re.sub(\"\\[\",\"\",sentence_one))\n",
    "sentence_one"
   ]
  },
  {
   "cell_type": "code",
   "execution_count": 26,
   "id": "ef4e635a",
   "metadata": {},
   "outputs": [
    {
     "data": {
      "text/plain": [
       "\" And more documents were found even after the president's lawyer signed an affidavit saying everything had been retrieved\""
      ]
     },
     "execution_count": 26,
     "metadata": {},
     "output_type": "execute_result"
    }
   ],
   "source": [
    "sentence_two = str(re.split(\"\\.\",str(sentence))[1])\n",
    "sentence_two"
   ]
  },
  {
   "cell_type": "code",
   "execution_count": 27,
   "id": "dab40f65",
   "metadata": {},
   "outputs": [
    {
     "data": {
      "text/plain": [
       "' The other president voluntarily turned over documents – including classified material – after his lawyers discovered them in his non-White House office and home and is cooperating with the Department of Justice'"
      ]
     },
     "execution_count": 27,
     "metadata": {},
     "output_type": "execute_result"
    }
   ],
   "source": [
    "sentence_three = str(re.split(\"\\.\",str(sentence))[2])\n",
    "sentence_three = str(re.sub(\"<p>\",\"\",sentence_three))\n",
    "sentence_three = str(re.sub(\"</p>\",\"\",sentence_three))\n",
    "sentence_three = str(re.sub(\",\",\"\",sentence_three))\n",
    "sentence_three"
   ]
  },
  {
   "cell_type": "code",
   "execution_count": 28,
   "id": "9ec38442",
   "metadata": {},
   "outputs": [
    {
     "name": "stdout",
     "output_type": "stream",
     "text": [
      "Hedaer: The Dramatic Differences Between the Trump and Biden Document Dramas\n",
      "Top 3 sentences: One president had to be hounded for government documents, including classified material that was only retrieved after the FBI executed a search warrant at his home .  And more documents were found even after the president's lawyer signed an affidavit saying everything had been retrieved .  The other president voluntarily turned over documents – including classified material – after his lawyers discovered them in his non-White House office and home and is cooperating with the Department of Justice .\n"
     ]
    }
   ],
   "source": [
    "# summary\n",
    "for i in secondheader:\n",
    "\tprint(\"Hedaer:\",i.text)\n",
    "print(\"Top 3 sentences:\", sentence_one,\".\", sentence_two,\".\",sentence_three,\".\")"
   ]
  },
  {
   "cell_type": "code",
   "execution_count": null,
   "id": "f26ba9d9",
   "metadata": {},
   "outputs": [],
   "source": []
  },
  {
   "cell_type": "code",
   "execution_count": null,
   "id": "f2d63811",
   "metadata": {},
   "outputs": [],
   "source": []
  }
 ],
 "metadata": {
  "celltoolbar": "无",
  "kernelspec": {
   "display_name": "Python 3 (ipykernel)",
   "language": "python",
   "name": "python3"
  },
  "language_info": {
   "codemirror_mode": {
    "name": "ipython",
    "version": 3
   },
   "file_extension": ".py",
   "mimetype": "text/x-python",
   "name": "python",
   "nbconvert_exporter": "python",
   "pygments_lexer": "ipython3",
   "version": "3.9.12"
  },
  "toc": {
   "base_numbering": 1,
   "nav_menu": {},
   "number_sections": true,
   "sideBar": true,
   "skip_h1_title": false,
   "title_cell": "Table of Contents",
   "title_sidebar": "Contents",
   "toc_cell": false,
   "toc_position": {},
   "toc_section_display": true,
   "toc_window_display": false
  }
 },
 "nbformat": 4,
 "nbformat_minor": 5
}
